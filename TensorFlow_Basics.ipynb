{
 "cells": [
  {
   "cell_type": "markdown",
   "metadata": {},
   "source": [
    "<h1>Getting started with TensorFlow</h1>\n",
    "<p>The following notebook assumes limited to no knowledge of TensorFlow, but it will require basic Python literacy and for the TensorFlow, Numpy, and Matplotlib modules to be installed (They should be unless you maliciously uninstalled them.)</p>"
   ]
  },
  {
   "cell_type": "code",
   "execution_count": null,
   "metadata": {},
   "outputs": [],
   "source": [
    "import tensorflow as tf\n",
    "import numpy as np"
   ]
  },
  {
   "cell_type": "markdown",
   "metadata": {},
   "source": [
    "<h2>Lesson Goals:</h2>\n",
    "<ol>\n",
    "    <li>Understanding Machine Learning Models as Function Approximators.</li>\n",
    "    <li>Defining ML Models in TensorFlow.</li>\n",
    "    <li>Training ML Models.</li>\n",
    "</ol>\n",
    "<a name=\"FunctionApproximator\"></a>\n",
    "<h3>Understanding Machine Learning Models as Function Approximators</h3>\n",
    "<p>In general, most ML models are made with a very simple purpose: to produce 'intelligent' output for a given problem. This is an over simplified way of thinking of things, but it reveals some of our key goals: we want to make a model which produces output we like based on a set of input(s). In this sense, we can imagine our ML model as a universal function approximator: something which mimics the output we would like given a set of examples. For this lesson, we will start by loading a set of data and making a model which can accurately predict values for our unknown function.</p>\n",
    "<h3>Loading the data</h3>\n",
    "<p>We begin by using Python's pickle module to load the binary data file containing our unknown function's input and output examples.</p>"
   ]
  },
  {
   "cell_type": "code",
   "execution_count": null,
   "metadata": {},
   "outputs": [],
   "source": [
    "import pickle\n",
    "file_name = 'data.p'\n",
    "data = None\n",
    "with open(file_name, 'rb') as out_file:\n",
    "    data = pickle.load(out_file)\n",
    "if data is not None:\n",
    "    print('Loaded data from {}.\\nData:{}'.format(file_name, data))"
   ]
  },
  {
   "cell_type": "markdown",
   "metadata": {},
   "source": [
    "<p>The previous code should print out the data for our inputs and outputs, but it would probably be helpful to display the data on a graph so we can get a better idea of what kind of function we are trying to model. The following code plots our data as a series of red points.</p>"
   ]
  },
  {
   "cell_type": "code",
   "execution_count": null,
   "metadata": {},
   "outputs": [],
   "source": [
    "import matplotlib.pyplot as plt\n",
    "plt.plot(data['inputs'], data['outputs'], 'ro')\n",
    "plt.show()"
   ]
  },
  {
   "cell_type": "markdown",
   "metadata": {},
   "source": [
    "<p>Since we have a set of input/output examples showing the expected output of our model, we could classify this ML problem as a <i>supervised learning</i> problem. In this case, we know that the output of our model should closely match that of the graph above. In order to determine which models we use to approximate this function are better, we will need to define a loss function to quantify how far off our model is. For continuous, regression type problems like this, a common loss function is to average the squares of the differences between the true value (denoted $y$) and the approximated value (denoted $\\hat{y}$).</p>\n",
    "$$loss=\\frac{1}{n}\\sum_0^n{(y_i-\\hat{y_i})^2}$$\n",
    "<p>This is often referred to as the Mean Squared Error (MSE).</p>"
   ]
  },
  {
   "cell_type": "code",
   "execution_count": null,
   "metadata": {
    "collapsed": true
   },
   "outputs": [],
   "source": [
    "def MSE(ys,ys_approx):\n",
    "    loss = 0\n",
    "    for y, y_approx in zip(ys, ys_approx):\n",
    "        loss += (y - y_approx) ** 2\n",
    "    return loss/len(ys)"
   ]
  },
  {
   "cell_type": "markdown",
   "metadata": {},
   "source": [
    "<h3>Linear Approximation</h3>\n",
    "<p>We can try simply approximating our model using the slope-intercept formula:</p>\n",
    "$$y = m*x + b$$\n",
    "<p>Try to find best line of fit possible (lowest loss). Do not spend more than 5 minutes on this portion.</p>"
   ]
  },
  {
   "cell_type": "code",
   "execution_count": null,
   "metadata": {},
   "outputs": [],
   "source": [
    "m = 0.339 #-1 #0.339\n",
    "b = -5 #3 #-5\n",
    "\n",
    "y = lambda x: m * x + b\n",
    "print('Loss for function approximation: ', MSE(data['outputs'], y(data['inputs'])))\n",
    "\n",
    "plt.plot(data['inputs'], y(data['inputs']), 'b-')\n",
    "plt.plot(data['inputs'], data['outputs'], 'ro')\n",
    "plt.show()"
   ]
  },
  {
   "cell_type": "markdown",
   "metadata": {},
   "source": [
    "<p>We may  have managed to find a line which works, but in practice, we do not want to have to figure out the ideal values for $m$ or $b$. This is what we have ML and gradient descent for. Next, we will set up a simple linear approximator which we will train with TensorFlow. The following code begins by resetting the TensorFlow graph. This is typically run before creating your networks to ensure that there are no duplicate tensors. Afterwards, we define a placeholder for our X input(s). Placeholders allow us to fill in their places later with our data set for training the model.</p>"
   ]
  },
  {
   "cell_type": "code",
   "execution_count": null,
   "metadata": {
    "collapsed": true
   },
   "outputs": [],
   "source": [
    "tf.reset_default_graph()\n",
    "XS = tf.placeholder(tf.float32, shape=[None, 1], name='Xs')\n",
    "#TO-DO: Define a placeholder for our expected output: TrueYS\n",
    "YS = tf.placeholder(tf.float32, shape = [None, 1], name = 'YS')\n",
    "\n",
    "M = tf.Variable(0.339, dtype=tf.float32, name='Slope')\n",
    "#TO-DO: Define a variable for bias: B\n",
    "B = tf.Variable(-5, dtype = tf.float32, name = 'Intercept')\n",
    "\n",
    "#Our TensorFlow Linear Approximator: YApprox\n",
    "YApprox = M * XS + B"
   ]
  },
  {
   "cell_type": "markdown",
   "metadata": {},
   "source": [
    "<p>With this taken care of, we can initialize and run our model with the following code. Note that whenever we want to access the output of a TensorFlow operation, we use 'sess.run()' to obtain the output of the operation. Additionally, we need to specify what takes the place of our XS placeholder in a dictionary.</p>"
   ]
  },
  {
   "cell_type": "code",
   "execution_count": null,
   "metadata": {
    "scrolled": true
   },
   "outputs": [],
   "source": [
    "#Start a new TF session to run our model\n",
    "with tf.Session() as sess:\n",
    "    #Initialize our variables\n",
    "    sess.run(tf.global_variables_initializer())\n",
    "    #Determine our outputs for the given data inputs:\n",
    "    y_approx = sess.run(YApprox, {XS : np.transpose([data['inputs']])})\n",
    "    print('Loss for function approximation: ', MSE(data['outputs'], y_approx))\n",
    "    \n",
    "\n",
    "plt.plot(data['inputs'], y_approx, 'b-')\n",
    "plt.plot(data['inputs'], data['outputs'], 'ro')\n",
    "plt.show()"
   ]
  },
  {
   "cell_type": "markdown",
   "metadata": {},
   "source": [
    "<p>Now that we have defined our simple linear approximator, lets try to train it against the data to figure out the best values for $m$ and $b$. We do this by defining a loss function which compares our model's prediction to the true value for $y$. Running this code should produce nearly the same estimated loss as our MSE function:</p>"
   ]
  },
  {
   "cell_type": "code",
   "execution_count": null,
   "metadata": {},
   "outputs": [],
   "source": [
    "loss = tf.losses.mean_squared_error(YS, YApprox)\n",
    "with tf.Session() as sess:\n",
    "    #Initialize our variables\n",
    "    sess.run(tf.global_variables_initializer())\n",
    "    #Compute our losses\n",
    "    losses = sess.run(loss, {\n",
    "        XS : np.transpose([data['inputs']]),\n",
    "        YS : np.transpose([data['outputs']])})\n",
    "    print('Loss for function approximation:', losses)"
   ]
  },
  {
   "cell_type": "markdown",
   "metadata": {},
   "source": [
    "<p>Now that we can user TensorFlow to calculate the losses of our model, we will try to train our model to minimize this loss function and find the ideal values of $m$ and $b$. We begin by defining our Gradient Descent Optimizer, which will be used to determine how to change our variables. From there, we define our train operation as using our optimizer to minimize our function approximator's loss. Once this is taken care of, we simply need to train the agent with the data we have to work with.</p>"
   ]
  },
  {
   "cell_type": "code",
   "execution_count": null,
   "metadata": {},
   "outputs": [],
   "source": [
    "for key in data:\n",
    "    print(key)\n",
    "    print(data[key])"
   ]
  },
  {
   "cell_type": "code",
   "execution_count": null,
   "metadata": {},
   "outputs": [],
   "source": [
    "optimizer = tf.train.GradientDescentOptimizer(learning_rate=0.001)\n",
    "train_op = optimizer.minimize(loss)\n",
    "training_epochs =  8\n",
    "with tf.Session() as sess:\n",
    "    #Initialize our variables\n",
    "    sess.run(tf.global_variables_initializer())\n",
    "    for epoch in range(training_epochs):\n",
    "        feed_dict = {\n",
    "            XS : np.transpose([data['inputs']]),\n",
    "            YS : np.transpose([data['outputs']])\n",
    "        }\n",
    "        losses, m, b, _ = sess.run([loss, M, B, train_op], feed_dict)\n",
    "        print('Loss after {} epochs: {}'.format(epoch+1, losses))\n",
    "        print('y = {} * x + {}\\n'.format(m, b))\n",
    "        plt.plot(data['inputs'], y(data['inputs']), label='Epoch {}'.format(epoch))\n",
    "    plt.plot(data['inputs'], data['outputs'], 'ro')\n",
    "    plt.legend()\n",
    "    plt.show()"
   ]
  },
  {
   "cell_type": "markdown",
   "metadata": {},
   "source": [
    "<p>Try messing with the learning_rate and training_epochs variables to train the line to better fit the data.</p>"
   ]
  },
  {
   "cell_type": "markdown",
   "metadata": {},
   "source": [
    "<h3>Nonlinear layers?</h3>\n",
    "<p>Even if we trained our model perfectly, it still falls short of accurately modeling our data. This is because our data and the function we are trying to approximate is not linear. In order to make our ML model more accurate, we will use Neural Networks with nonlinear transformations/activations.</p>"
   ]
  },
  {
   "cell_type": "code",
   "execution_count": 146,
   "metadata": {},
   "outputs": [
    {
     "name": "stdout",
     "output_type": "stream",
     "text": [
      "inputs:  (?, 3)\n"
     ]
    }
   ],
   "source": [
    "tf.reset_default_graph()\n",
    "number_hidden_neurons = 64 #128\n",
    "XS = tf.placeholder(tf.float32, shape=[None, 1], name='Xs')\n",
    "\n",
    "inputs = tf.concat([XS, tf.cos(XS), tf.sin(XS)], axis = 1)\n",
    "print('inputs: ', inputs.shape)\n",
    "\n",
    "hidden1 = tf.layers.dense(inputs, number_hidden_neurons, activation=tf.nn.relu)\n",
    "#TO-DO: add additional hidden layers. Try changing the activation functions or number of hidden neurons\n",
    "hidden2 = tf.layers.dense(hidden1, number_hidden_neurons, activation=tf.nn.relu)\n",
    "#hidden3 = tf.layers.dense(hidden2, number_hidden_neurons, activation=tf.nn.relu)\n",
    "#hidden4 = tf.layers.dense(hidden3, number_hidden_neurons, activation=tf.nn.tanh)\n",
    "#hidden5 = tf.layers.dense(hidden4, number_hidden_neurons, activation=tf.nn.tanh)\n",
    "\n",
    "\n",
    "YApprox = tf.layers.dense(hidden2, 1)\n",
    "YS = tf.placeholder(tf.float32, shape=[None, 1], name='TrueYs')\n",
    "loss = tf.losses.mean_squared_error(YS, YApprox)"
   ]
  },
  {
   "cell_type": "code",
   "execution_count": 149,
   "metadata": {},
   "outputs": [
    {
     "name": "stdout",
     "output_type": "stream",
     "text": [
      "0 0.0\n",
      "100 53.772858\n",
      "200 23.45691\n",
      "300 58.808136\n",
      "400 -62.433655\n",
      "500 114.454254\n",
      "600 -58.610962\n",
      "700 -44.63681\n",
      "800 30.240082\n",
      "900 83.37669\n",
      "1000 52.25705\n",
      "1100 10.522263\n",
      "1200 -24.964264\n",
      "1300 21.33139\n",
      "1400 -0.14001465\n",
      "1500 20.448746\n",
      "1600 11.592392\n",
      "1700 8.491669\n",
      "1800 12.970413\n",
      "1900 11.19722\n",
      "2000 2.892395\n",
      "2100 4.7577515\n",
      "2200 12.964455\n",
      "2300 -2.2660446\n",
      "2400 10.749336\n",
      "2500 6.8820114\n",
      "2600 -1.4172821\n",
      "2700 6.224167\n",
      "2800 13.189796\n",
      "2900 -5.7990646\n",
      "3000 11.082516\n",
      "3100 -1.9441986\n",
      "3200 2.2366524\n",
      "3300 11.106586\n",
      "3400 -2.1304932\n",
      "3500 2.1847534\n",
      "3600 5.892063\n",
      "3700 3.037346\n",
      "3800 -9.771408\n",
      "3900 11.242119\n",
      "4000 0.9701958\n",
      "4100 -5.57304\n",
      "4200 6.6707077\n",
      "4300 -1.9600105\n",
      "4400 14.759075\n",
      "4500 -7.765808\n",
      "4600 2.311039\n",
      "4700 -0.43107033\n",
      "4800 3.5447617\n",
      "4900 3.8525429\n",
      "5000 -3.5102425\n",
      "5100 -3.3709087\n",
      "5200 6.154854\n",
      "5300 -2.6150684\n",
      "5400 4.380743\n",
      "5500 -3.5148067\n",
      "5600 1.4907894\n",
      "5700 1.9295788\n",
      "5800 -6.331871\n",
      "5900 8.15098\n",
      "6000 -3.245901\n",
      "6100 3.1260452\n",
      "6200 3.912878\n",
      "6300 3.1813602\n",
      "6400 -3.0046463\n",
      "6500 2.654045\n",
      "6600 1.0734539\n",
      "6700 -0.93772984\n",
      "6800 -0.68713856\n",
      "6900 2.8980894\n",
      "7000 -0.7766371\n",
      "7100 -0.844614\n",
      "7200 -3.3965979\n",
      "7300 4.2671986\n",
      "7400 -6.958228\n",
      "7500 4.5692596\n",
      "7600 5.37617\n",
      "7700 -0.35526943\n",
      "7800 0.37613297\n",
      "7900 1.9427257\n",
      "8000 -0.69782734\n",
      "8100 -3.8639655\n",
      "8200 3.3046517\n",
      "8300 2.2503724\n",
      "8400 -4.988041\n",
      "8500 3.1664877\n",
      "8600 0.5388999\n",
      "8700 1.2333608\n",
      "8800 -0.59968567\n",
      "8900 0.7483411\n",
      "9000 -4.238727\n",
      "9100 -3.2391195\n",
      "9200 7.488521\n",
      "9300 -5.7735677\n",
      "9400 6.035122\n",
      "9500 -0.56262064\n",
      "9600 0.3119316\n",
      "9700 -1.6100898\n",
      "9800 1.1430216\n",
      "9900 0.531373\n",
      "Loss after 10000 epochs: 6.508344650268555\n"
     ]
    },
    {
     "data": {
      "image/png": "[encoded data removed]",
      "text/plain": [
       "<matplotlib.figure.Figure at 0x7f74342639b0>"
      ]
     },
     "metadata": {},
     "output_type": "display_data"
    }
   ],
   "source": [
    "optimizer = tf.train.GradientDescentOptimizer(learning_rate=0.0001)\n",
    "train_op = optimizer.minimize(loss)\n",
    "training_epochs =  10000\n",
    "#Try changing the number of training epochs\n",
    "with tf.Session() as sess:\n",
    "    #Initialize our variables\n",
    "    sess.run(tf.global_variables_initializer())\n",
    "    last_loss=None\n",
    "    for epoch in range(training_epochs):\n",
    "        feed_dict = {\n",
    "            XS : np.transpose([data['inputs']]),\n",
    "            YS : np.transpose([data['outputs']])\n",
    "        }\n",
    "        losses, _ = sess.run([loss, train_op], feed_dict)\n",
    "        if last_loss==None:\n",
    "            last_loss=losses\n",
    "        if epoch%100==0:\n",
    "            print(str(epoch)+\" \"+str(last_loss-losses))\n",
    "            last_loss=losses\n",
    "            \n",
    "    print('Loss after {} epochs: {}'.format(epoch+1, losses))\n",
    "    xs = np.transpose([np.linspace(0, max(data['inputs']), 100)])\n",
    "    ys_approx = sess.run([YApprox], {XS : xs})\n",
    "    xs = np.transpose(xs)[0]\n",
    "    ys_approx = np.transpose(ys_approx)[0]\n",
    "    plt.plot(xs, ys_approx, label='Epoch {}'.format(epoch))\n",
    "    plt.plot(data['inputs'], data['outputs'], 'ro')\n",
    "    plt.legend()\n",
    "    plt.show()"
   ]
  },
  {
   "cell_type": "code",
   "execution_count": 142,
   "metadata": {},
   "outputs": [
    {
     "name": "stdout",
     "output_type": "stream",
     "text": [
      "Total indicies:  [57 23 44 78 76  5 41 86 20  0 83 25 56 54 11 32 92 80 68 65 26 66 84 27\n",
      " 34 24 12 94  2 53 98 59 99 81 67 72 55 33 93 29 82 85  1 51 52  7 18 37\n",
      " 75 40 13 60 64 96 10 95 38 28 90 61 35 58  4 87  6 30 16 39 21 70 79  9\n",
      " 50 63 48 49 42 45 46 22 91 62 77 74 69  8 47 17 19 31 88  3 43 15 97 14\n",
      " 73 71 36 89]\n",
      "Train indicies:  80\n",
      "Test indices:  20\n"
     ]
    }
   ],
   "source": [
    "indices = [i for i in range(len(data['inputs']))]\n",
    "indices = np.random.permutation(indices)\n",
    "print('Total indicies: ', indices)\n",
    "train_ratio = 0.8\n",
    "training_count = int(train_ratio * len(indices))\n",
    "train_indices = indices[0: int(train_ratio * len(indices))]\n",
    "print('Train indicies: ', len(train_indices))\n",
    "test_indices = indices[training_count : ]\n",
    "print('Test indices: ', len(test_indices))\n"
   ]
  },
  {
   "cell_type": "code",
   "execution_count": null,
   "metadata": {
    "collapsed": true
   },
   "outputs": [],
   "source": [
    "train_input = data[]"
   ]
  }
 ],
 "metadata": {
  "kernelspec": {
   "display_name": "Python 3",
   "language": "python",
   "name": "python3"
  },
  "language_info": {
   "codemirror_mode": {
    "name": "ipython",
    "version": 3
   },
   "file_extension": ".py",
   "mimetype": "text/x-python",
   "name": "python",
   "nbconvert_exporter": "python",
   "pygments_lexer": "ipython3",
   "version": "3.6.3"
  }
 },
 "nbformat": 4,
 "nbformat_minor": 2
}
